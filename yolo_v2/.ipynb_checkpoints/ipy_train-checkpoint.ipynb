{
 "cells": [
  {
   "cell_type": "code",
   "execution_count": null,
   "metadata": {
    "collapsed": true
   },
   "outputs": [],
   "source": [
    "import tensorflow as tf\n",
    "import numpy as np\n",
    "import argparse\n",
    "import datetime\n",
    "import time\n",
    "import os\n",
    "import yolo.config as cfg\n",
    "from Train import Train\n",
    "from pascal_voc import Pascal_voc\n",
    "from six.moves import xrange\n",
    "from yolo.yolo_v2 import yolo_v2\n",
    "# from yolo.darknet19 import Darknet19\n",
    "\n",
    "weights = 'yolo_v2.ckpt' # darknet-19.ckpt\n",
    "gpu = ''  # which gpu to be selected\n",
    "if gpu is not None:\n",
    "    cfg.GPU = gpu\n",
    "if weights is not None:\n",
    "    cfg.WEIGHTS_FILE = weights\n",
    "os.environ['CUDA_VISIBLE_DEVICES'] = cfg.GPU\n",
    "yolo = yolo_v2()\n",
    "# yolo = Darknet19()\n",
    "pre_data = Pascal_voc()\n",
    "\n",
    "train = Train(yolo, pre_data)\n",
    "\n",
    "print('start training ...')\n",
    "train.train()\n",
    "print('successful training.')\n"
   ]
  }
 ],
 "metadata": {
  "kernelspec": {
   "display_name": "Python [default]",
   "language": "python",
   "name": "python2"
  },
  "language_info": {
   "codemirror_mode": {
    "name": "ipython",
    "version": 2
   },
   "file_extension": ".py",
   "mimetype": "text/x-python",
   "name": "python",
   "nbconvert_exporter": "python",
   "pygments_lexer": "ipython2",
   "version": "2.7.12"
  }
 },
 "nbformat": 4,
 "nbformat_minor": 1
}
