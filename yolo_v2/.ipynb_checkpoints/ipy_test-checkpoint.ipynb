{
 "cells": [
  {
   "cell_type": "code",
   "execution_count": null,
   "metadata": {
    "collapsed": true
   },
   "outputs": [],
   "source": [
    "import tensorflow as tf\n",
    "import numpy as np\n",
    "import argparse\n",
    "import colorsys\n",
    "import cv2\n",
    "import os\n",
    "from Detector import Detector\n",
    "import yolo.config as cfg\n",
    "from yolo.yolo_v2 import yolo_v2\n",
    "# from yolo.darknet19 import Darknet19\n",
    "\n",
    "weights = 'yolo_v2.ckpt' # darknet-19.ckpt\n",
    "weight_dir = 'output'\n",
    "data_dir = 'data'\n",
    "gpu = '' # which gpu to be selected\n",
    "\n",
    "os.environ['CUDA_VISIBLE_DEVICES'] = args.gpu    # configure gpu\n",
    "weights_file = os.path.join(args.data_dir, args.weight_dir, args.weights)\n",
    "yolo = yolo_v2(False)    # 'False' mean 'test'\n",
    "# yolo = Darknet19(False)\n",
    "\n",
    "detector = Detector(yolo, weights_file)\n",
    "\n",
    "#detect the video\n",
    "#cap = cv2.VideoCapture('asd.mp4')\n",
    "#cap = cv2.VideoCapture(0)\n",
    "#detector.video_detect(cap)\n",
    "\n",
    "#detect the image\n",
    "imagename = './test/02.jpg'\n",
    "detector.image_detect(imagename)"
   ]
  }
 ],
 "metadata": {
  "anaconda-cloud": {},
  "kernelspec": {
   "display_name": "Python [default]",
   "language": "python",
   "name": "python2"
  },
  "language_info": {
   "codemirror_mode": {
    "name": "ipython",
    "version": 2
   },
   "file_extension": ".py",
   "mimetype": "text/x-python",
   "name": "python",
   "nbconvert_exporter": "python",
   "pygments_lexer": "ipython2",
   "version": "2.7.12"
  }
 },
 "nbformat": 4,
 "nbformat_minor": 1
}
